{
 "cells": [
  {
   "cell_type": "markdown",
   "metadata": {},
   "source": [
    "## Final Project Submission\n",
    "\n",
    "Please fill out:\n",
    "* Student name: Wesley Yu\n",
    "* Student pace: Flex\n",
    "* Scheduled project review date/time: \n",
    "* Instructor name: Abhineet Kulkarni\n",
    "* Blog post URL:"
   ]
  },
  {
   "cell_type": "markdown",
   "metadata": {},
   "source": [
    "# Time Series Forecasting on House Prices\n",
    "\n",
    "**Authors:** Wesley Yu\n",
    "***"
   ]
  },
  {
   "cell_type": "markdown",
   "metadata": {},
   "source": [
    "## Overview\n",
    "\n"
   ]
  },
  {
   "cell_type": "markdown",
   "metadata": {},
   "source": [
    "## Business Problem\n",
    "\n"
   ]
  },
  {
   "cell_type": "markdown",
   "metadata": {},
   "source": [
    "## Data Understanding\n",
    "\n"
   ]
  },
  {
   "cell_type": "code",
   "execution_count": 1,
   "metadata": {},
   "outputs": [],
   "source": [
    "# import libraries\n",
    "import pandas as pd\n",
    "import numpy as np\n",
    "import matplotlib.pyplot as plt\n",
    "import seaborn as sns\n",
    "from sklearn.metrics import mean_squared_error\n",
    "from sklearn.model_selection import TimeSeriesSplit\n",
    "\n",
    "from pmdarima import auto_arima\n",
    "\n",
    "#statsmodels\n",
    "from statsmodels.tsa.arima.model import ARIMA\n",
    "from statsmodels.tsa.stattools import acf, pacf, adfuller\n",
    "from statsmodels.graphics.tsaplots import plot_acf, plot_pacf\n",
    "from statsmodels.tsa.statespace.sarimax import SARIMAX"
   ]
  },
  {
   "cell_type": "markdown",
   "metadata": {},
   "source": [
    "# Load the Data/Filtering for Chosen Zipcodes"
   ]
  },
  {
   "cell_type": "code",
   "execution_count": 2,
   "metadata": {},
   "outputs": [
    {
     "data": {
      "text/html": [
       "<div>\n",
       "<style scoped>\n",
       "    .dataframe tbody tr th:only-of-type {\n",
       "        vertical-align: middle;\n",
       "    }\n",
       "\n",
       "    .dataframe tbody tr th {\n",
       "        vertical-align: top;\n",
       "    }\n",
       "\n",
       "    .dataframe thead th {\n",
       "        text-align: right;\n",
       "    }\n",
       "</style>\n",
       "<table border=\"1\" class=\"dataframe\">\n",
       "  <thead>\n",
       "    <tr style=\"text-align: right;\">\n",
       "      <th></th>\n",
       "      <th>RegionID</th>\n",
       "      <th>RegionName</th>\n",
       "      <th>City</th>\n",
       "      <th>State</th>\n",
       "      <th>Metro</th>\n",
       "      <th>CountyName</th>\n",
       "      <th>SizeRank</th>\n",
       "      <th>1996-04</th>\n",
       "      <th>1996-05</th>\n",
       "      <th>1996-06</th>\n",
       "      <th>...</th>\n",
       "      <th>2017-07</th>\n",
       "      <th>2017-08</th>\n",
       "      <th>2017-09</th>\n",
       "      <th>2017-10</th>\n",
       "      <th>2017-11</th>\n",
       "      <th>2017-12</th>\n",
       "      <th>2018-01</th>\n",
       "      <th>2018-02</th>\n",
       "      <th>2018-03</th>\n",
       "      <th>2018-04</th>\n",
       "    </tr>\n",
       "  </thead>\n",
       "  <tbody>\n",
       "    <tr>\n",
       "      <th>0</th>\n",
       "      <td>84654</td>\n",
       "      <td>60657</td>\n",
       "      <td>Chicago</td>\n",
       "      <td>IL</td>\n",
       "      <td>Chicago</td>\n",
       "      <td>Cook</td>\n",
       "      <td>1</td>\n",
       "      <td>334200.0</td>\n",
       "      <td>335400.0</td>\n",
       "      <td>336500.0</td>\n",
       "      <td>...</td>\n",
       "      <td>1005500</td>\n",
       "      <td>1007500</td>\n",
       "      <td>1007800</td>\n",
       "      <td>1009600</td>\n",
       "      <td>1013300</td>\n",
       "      <td>1018700</td>\n",
       "      <td>1024400</td>\n",
       "      <td>1030700</td>\n",
       "      <td>1033800</td>\n",
       "      <td>1030600</td>\n",
       "    </tr>\n",
       "    <tr>\n",
       "      <th>1</th>\n",
       "      <td>90668</td>\n",
       "      <td>75070</td>\n",
       "      <td>McKinney</td>\n",
       "      <td>TX</td>\n",
       "      <td>Dallas-Fort Worth</td>\n",
       "      <td>Collin</td>\n",
       "      <td>2</td>\n",
       "      <td>235700.0</td>\n",
       "      <td>236900.0</td>\n",
       "      <td>236700.0</td>\n",
       "      <td>...</td>\n",
       "      <td>308000</td>\n",
       "      <td>310000</td>\n",
       "      <td>312500</td>\n",
       "      <td>314100</td>\n",
       "      <td>315000</td>\n",
       "      <td>316600</td>\n",
       "      <td>318100</td>\n",
       "      <td>319600</td>\n",
       "      <td>321100</td>\n",
       "      <td>321800</td>\n",
       "    </tr>\n",
       "    <tr>\n",
       "      <th>2</th>\n",
       "      <td>91982</td>\n",
       "      <td>77494</td>\n",
       "      <td>Katy</td>\n",
       "      <td>TX</td>\n",
       "      <td>Houston</td>\n",
       "      <td>Harris</td>\n",
       "      <td>3</td>\n",
       "      <td>210400.0</td>\n",
       "      <td>212200.0</td>\n",
       "      <td>212200.0</td>\n",
       "      <td>...</td>\n",
       "      <td>321000</td>\n",
       "      <td>320600</td>\n",
       "      <td>320200</td>\n",
       "      <td>320400</td>\n",
       "      <td>320800</td>\n",
       "      <td>321200</td>\n",
       "      <td>321200</td>\n",
       "      <td>323000</td>\n",
       "      <td>326900</td>\n",
       "      <td>329900</td>\n",
       "    </tr>\n",
       "    <tr>\n",
       "      <th>3</th>\n",
       "      <td>84616</td>\n",
       "      <td>60614</td>\n",
       "      <td>Chicago</td>\n",
       "      <td>IL</td>\n",
       "      <td>Chicago</td>\n",
       "      <td>Cook</td>\n",
       "      <td>4</td>\n",
       "      <td>498100.0</td>\n",
       "      <td>500900.0</td>\n",
       "      <td>503100.0</td>\n",
       "      <td>...</td>\n",
       "      <td>1289800</td>\n",
       "      <td>1287700</td>\n",
       "      <td>1287400</td>\n",
       "      <td>1291500</td>\n",
       "      <td>1296600</td>\n",
       "      <td>1299000</td>\n",
       "      <td>1302700</td>\n",
       "      <td>1306400</td>\n",
       "      <td>1308500</td>\n",
       "      <td>1307000</td>\n",
       "    </tr>\n",
       "    <tr>\n",
       "      <th>4</th>\n",
       "      <td>93144</td>\n",
       "      <td>79936</td>\n",
       "      <td>El Paso</td>\n",
       "      <td>TX</td>\n",
       "      <td>El Paso</td>\n",
       "      <td>El Paso</td>\n",
       "      <td>5</td>\n",
       "      <td>77300.0</td>\n",
       "      <td>77300.0</td>\n",
       "      <td>77300.0</td>\n",
       "      <td>...</td>\n",
       "      <td>119100</td>\n",
       "      <td>119400</td>\n",
       "      <td>120000</td>\n",
       "      <td>120300</td>\n",
       "      <td>120300</td>\n",
       "      <td>120300</td>\n",
       "      <td>120300</td>\n",
       "      <td>120500</td>\n",
       "      <td>121000</td>\n",
       "      <td>121500</td>\n",
       "    </tr>\n",
       "  </tbody>\n",
       "</table>\n",
       "<p>5 rows × 272 columns</p>\n",
       "</div>"
      ],
      "text/plain": [
       "   RegionID  RegionName      City State              Metro CountyName  \\\n",
       "0     84654       60657   Chicago    IL            Chicago       Cook   \n",
       "1     90668       75070  McKinney    TX  Dallas-Fort Worth     Collin   \n",
       "2     91982       77494      Katy    TX            Houston     Harris   \n",
       "3     84616       60614   Chicago    IL            Chicago       Cook   \n",
       "4     93144       79936   El Paso    TX            El Paso    El Paso   \n",
       "\n",
       "   SizeRank   1996-04   1996-05   1996-06  ...  2017-07  2017-08  2017-09  \\\n",
       "0         1  334200.0  335400.0  336500.0  ...  1005500  1007500  1007800   \n",
       "1         2  235700.0  236900.0  236700.0  ...   308000   310000   312500   \n",
       "2         3  210400.0  212200.0  212200.0  ...   321000   320600   320200   \n",
       "3         4  498100.0  500900.0  503100.0  ...  1289800  1287700  1287400   \n",
       "4         5   77300.0   77300.0   77300.0  ...   119100   119400   120000   \n",
       "\n",
       "   2017-10  2017-11  2017-12  2018-01  2018-02  2018-03  2018-04  \n",
       "0  1009600  1013300  1018700  1024400  1030700  1033800  1030600  \n",
       "1   314100   315000   316600   318100   319600   321100   321800  \n",
       "2   320400   320800   321200   321200   323000   326900   329900  \n",
       "3  1291500  1296600  1299000  1302700  1306400  1308500  1307000  \n",
       "4   120300   120300   120300   120300   120500   121000   121500  \n",
       "\n",
       "[5 rows x 272 columns]"
      ]
     },
     "execution_count": 2,
     "metadata": {},
     "output_type": "execute_result"
    }
   ],
   "source": [
    "df = pd.read_csv('data/zillow_data.csv')\n",
    "df.head()"
   ]
  },
  {
   "cell_type": "code",
   "execution_count": null,
   "metadata": {},
   "outputs": [],
   "source": [
    "df.info()"
   ]
  },
  {
   "cell_type": "code",
   "execution_count": null,
   "metadata": {},
   "outputs": [],
   "source": [
    "df[df.Metro == 'New York']['CountyName'].value_counts()"
   ]
  },
  {
   "cell_type": "code",
   "execution_count": 3,
   "metadata": {},
   "outputs": [],
   "source": [
    "ny_df = df[(df.Metro == 'New York')&(df.CountyName.isin(['Kings', 'Richmond', 'Queens', 'Bronx']))]"
   ]
  },
  {
   "cell_type": "code",
   "execution_count": null,
   "metadata": {},
   "outputs": [],
   "source": [
    "ny_df.shape"
   ]
  },
  {
   "cell_type": "code",
   "execution_count": null,
   "metadata": {},
   "outputs": [],
   "source": [
    "ny_df.head()"
   ]
  },
  {
   "cell_type": "markdown",
   "metadata": {},
   "source": [
    "# Data Preprocessing"
   ]
  },
  {
   "cell_type": "code",
   "execution_count": null,
   "metadata": {},
   "outputs": [],
   "source": [
    "ny_df.iloc[:, 0:7].isnull().sum()"
   ]
  },
  {
   "cell_type": "code",
   "execution_count": null,
   "metadata": {},
   "outputs": [],
   "source": [
    "ny_df.iloc[:, 7:].isnull().sum()"
   ]
  },
  {
   "cell_type": "code",
   "execution_count": null,
   "metadata": {},
   "outputs": [],
   "source": [
    "ny_df.iloc[:, 7:].isnull().sum().sum()"
   ]
  },
  {
   "cell_type": "code",
   "execution_count": null,
   "metadata": {},
   "outputs": [],
   "source": [
    "ny_df[ny_df['1996-04'].isna()]"
   ]
  },
  {
   "cell_type": "code",
   "execution_count": null,
   "metadata": {},
   "outputs": [],
   "source": [
    "ny_df[ny_df['1996-04'].isna()].isna().sum(axis = 1)"
   ]
  },
  {
   "cell_type": "code",
   "execution_count": null,
   "metadata": {},
   "outputs": [],
   "source": [
    "ny.columns[99]"
   ]
  },
  {
   "cell_type": "code",
   "execution_count": 4,
   "metadata": {},
   "outputs": [
    {
     "name": "stderr",
     "output_type": "stream",
     "text": [
      "C:\\Users\\Martian\\Anaconda3\\envs\\learn-env\\lib\\site-packages\\pandas\\core\\frame.py:4163: SettingWithCopyWarning: \n",
      "A value is trying to be set on a copy of a slice from a DataFrame\n",
      "\n",
      "See the caveats in the documentation: https://pandas.pydata.org/pandas-docs/stable/user_guide/indexing.html#returning-a-view-versus-a-copy\n",
      "  return super().drop(\n"
     ]
    }
   ],
   "source": [
    "ny_df.drop(index = [36, 1299], inplace = True)"
   ]
  },
  {
   "cell_type": "code",
   "execution_count": null,
   "metadata": {},
   "outputs": [],
   "source": []
  },
  {
   "cell_type": "code",
   "execution_count": null,
   "metadata": {},
   "outputs": [],
   "source": []
  },
  {
   "cell_type": "code",
   "execution_count": null,
   "metadata": {},
   "outputs": [],
   "source": []
  },
  {
   "cell_type": "code",
   "execution_count": null,
   "metadata": {},
   "outputs": [],
   "source": []
  },
  {
   "cell_type": "code",
   "execution_count": null,
   "metadata": {},
   "outputs": [],
   "source": [
    "ny.drop(['RegionID', 'City', 'State', 'Metro', 'CountyName', 'SizeRank'], axis = 1, inplace = True)"
   ]
  },
  {
   "cell_type": "code",
   "execution_count": null,
   "metadata": {},
   "outputs": [],
   "source": [
    "def get_datetimes(df):\n",
    "    \"\"\"\n",
    "    Takes a dataframe:\n",
    "    returns only those column names that can be converted into datetime objects \n",
    "    as datetime objects.\n",
    "    NOTE number of returned columns may not match total number of columns in passed dataframe\n",
    "    \"\"\"\n",
    "    \n",
    "    return pd.to_datetime(df.columns.values[0:], format='%Y-%m')"
   ]
  },
  {
   "cell_type": "code",
   "execution_count": null,
   "metadata": {},
   "outputs": [],
   "source": [
    "ny.set_index('RegionName', inplace = True)"
   ]
  },
  {
   "cell_type": "code",
   "execution_count": null,
   "metadata": {},
   "outputs": [],
   "source": []
  },
  {
   "cell_type": "code",
   "execution_count": null,
   "metadata": {},
   "outputs": [],
   "source": []
  },
  {
   "cell_type": "code",
   "execution_count": null,
   "metadata": {},
   "outputs": [],
   "source": [
    "ny.columns[7:]"
   ]
  },
  {
   "cell_type": "code",
   "execution_count": null,
   "metadata": {},
   "outputs": [],
   "source": [
    "ny.columns = ny.columns[:7].tolist() + get_datetimes(ny).tolist()"
   ]
  },
  {
   "cell_type": "code",
   "execution_count": null,
   "metadata": {},
   "outputs": [],
   "source": [
    "ny"
   ]
  },
  {
   "cell_type": "code",
   "execution_count": null,
   "metadata": {},
   "outputs": [],
   "source": []
  },
  {
   "cell_type": "code",
   "execution_count": null,
   "metadata": {},
   "outputs": [],
   "source": []
  },
  {
   "cell_type": "code",
   "execution_count": null,
   "metadata": {},
   "outputs": [],
   "source": [
    "ny.columns = get_datetimes(ny)"
   ]
  },
  {
   "cell_type": "code",
   "execution_count": null,
   "metadata": {},
   "outputs": [],
   "source": [
    "nyt = ny.T"
   ]
  },
  {
   "cell_type": "code",
   "execution_count": null,
   "metadata": {},
   "outputs": [],
   "source": [
    "nyt"
   ]
  },
  {
   "cell_type": "code",
   "execution_count": null,
   "metadata": {},
   "outputs": [],
   "source": [
    "nyt.index.freq = 'MS'"
   ]
  },
  {
   "cell_type": "markdown",
   "metadata": {},
   "source": [
    "# EDA and Visualization"
   ]
  },
  {
   "cell_type": "code",
   "execution_count": null,
   "metadata": {},
   "outputs": [],
   "source": [
    "ny_df_mean = ny_df.iloc[:, 7:].mean()"
   ]
  },
  {
   "cell_type": "code",
   "execution_count": null,
   "metadata": {},
   "outputs": [],
   "source": [
    "ny_df_mean.index = pd.to_datetime(ny_df_mean.index)"
   ]
  },
  {
   "cell_type": "code",
   "execution_count": null,
   "metadata": {},
   "outputs": [],
   "source": [
    "plt.figure(figsize=(16,8))\n",
    "ny_df_mean.plot()\n",
    "plt.title('House prices over Period 1996-2018')\n",
    "plt.ylabel('Median home price ($)')\n",
    "plt.xlabel('Year')\n",
    "plt.axvline(pd.to_datetime('2007-01-01'), color = 'r', linestyle='--', lw=2)\n",
    "plt.axvline(pd.to_datetime('2012-01-01'), color = 'r', linestyle='--', lw=2);"
   ]
  },
  {
   "cell_type": "code",
   "execution_count": null,
   "metadata": {},
   "outputs": [],
   "source": [
    "ny_df['2018-04'].hist()"
   ]
  },
  {
   "cell_type": "code",
   "execution_count": null,
   "metadata": {},
   "outputs": [],
   "source": [
    "ny_df['2018-04'].describe()"
   ]
  },
  {
   "cell_type": "code",
   "execution_count": 5,
   "metadata": {},
   "outputs": [
    {
     "name": "stderr",
     "output_type": "stream",
     "text": [
      "<ipython-input-5-de911f5f8043>:1: SettingWithCopyWarning: \n",
      "A value is trying to be set on a copy of a slice from a DataFrame.\n",
      "Try using .loc[row_indexer,col_indexer] = value instead\n",
      "\n",
      "See the caveats in the documentation: https://pandas.pydata.org/pandas-docs/stable/user_guide/indexing.html#returning-a-view-versus-a-copy\n",
      "  ny_df['3_yr_roi'] = (ny_df['2018-04'] - ny_df['2015-04']) / ny_df['2015-04']\n"
     ]
    }
   ],
   "source": [
    "ny_df['3_yr_roi'] = (ny_df['2018-04'] - ny_df['2015-04']) / ny_df['2015-04']"
   ]
  },
  {
   "cell_type": "code",
   "execution_count": null,
   "metadata": {},
   "outputs": [],
   "source": [
    "plt.figure(figsize = (12,6))\n",
    "sns.scatterplot(x = '2018-04', y = '3_yr_roi', data = ny_df)"
   ]
  },
  {
   "cell_type": "code",
   "execution_count": null,
   "metadata": {},
   "outputs": [],
   "source": [
    "ny_df['3_yr_roi'].hist()"
   ]
  },
  {
   "cell_type": "code",
   "execution_count": null,
   "metadata": {},
   "outputs": [],
   "source": [
    "ny_df['3_yr_roi'].describe()"
   ]
  },
  {
   "cell_type": "code",
   "execution_count": null,
   "metadata": {
    "scrolled": false
   },
   "outputs": [],
   "source": [
    "ny_df[(ny_df['2018-04'] <= 1500000) & (ny_df['3_yr_roi'] > 0.27)]"
   ]
  },
  {
   "cell_type": "code",
   "execution_count": 6,
   "metadata": {},
   "outputs": [
    {
     "name": "stderr",
     "output_type": "stream",
     "text": [
      "<ipython-input-6-bd7c3a8cb904>:1: SettingWithCopyWarning: \n",
      "A value is trying to be set on a copy of a slice from a DataFrame.\n",
      "Try using .loc[row_indexer,col_indexer] = value instead\n",
      "\n",
      "See the caveats in the documentation: https://pandas.pydata.org/pandas-docs/stable/user_guide/indexing.html#returning-a-view-versus-a-copy\n",
      "  ny_df['07_11_roi'] = (ny_df['2011-01'] - ny_df['2007-01']) / ny_df['2007-01']\n"
     ]
    }
   ],
   "source": [
    "ny_df['07_11_roi'] = (ny_df['2011-01'] - ny_df['2007-01']) / ny_df['2007-01']"
   ]
  },
  {
   "cell_type": "code",
   "execution_count": null,
   "metadata": {},
   "outputs": [],
   "source": [
    "plt.figure(figsize = (12,6))\n",
    "sns.scatterplot(x = '07_11_roi', y = '3_yr_roi', data = ny_df)"
   ]
  },
  {
   "cell_type": "code",
   "execution_count": null,
   "metadata": {},
   "outputs": [],
   "source": [
    "plt.figure(figsize = (12,6))\n",
    "sns.scatterplot(x = '07_11_roi', y = '3_yr_roi', data = ny_df)\n",
    "plt.xlim(-0.125, 0.05)\n",
    "plt.ylim(.30,.60)"
   ]
  },
  {
   "cell_type": "code",
   "execution_count": null,
   "metadata": {},
   "outputs": [],
   "source": [
    "ny_df['07_11_roi'].hist()"
   ]
  },
  {
   "cell_type": "code",
   "execution_count": null,
   "metadata": {},
   "outputs": [],
   "source": [
    "ny_df['07_11_roi'].describe()"
   ]
  },
  {
   "cell_type": "code",
   "execution_count": 7,
   "metadata": {},
   "outputs": [
    {
     "data": {
      "text/html": [
       "<div>\n",
       "<style scoped>\n",
       "    .dataframe tbody tr th:only-of-type {\n",
       "        vertical-align: middle;\n",
       "    }\n",
       "\n",
       "    .dataframe tbody tr th {\n",
       "        vertical-align: top;\n",
       "    }\n",
       "\n",
       "    .dataframe thead th {\n",
       "        text-align: right;\n",
       "    }\n",
       "</style>\n",
       "<table border=\"1\" class=\"dataframe\">\n",
       "  <thead>\n",
       "    <tr style=\"text-align: right;\">\n",
       "      <th></th>\n",
       "      <th>RegionID</th>\n",
       "      <th>RegionName</th>\n",
       "      <th>City</th>\n",
       "      <th>State</th>\n",
       "      <th>Metro</th>\n",
       "      <th>CountyName</th>\n",
       "      <th>SizeRank</th>\n",
       "      <th>1996-04</th>\n",
       "      <th>1996-05</th>\n",
       "      <th>1996-06</th>\n",
       "      <th>...</th>\n",
       "      <th>2017-09</th>\n",
       "      <th>2017-10</th>\n",
       "      <th>2017-11</th>\n",
       "      <th>2017-12</th>\n",
       "      <th>2018-01</th>\n",
       "      <th>2018-02</th>\n",
       "      <th>2018-03</th>\n",
       "      <th>2018-04</th>\n",
       "      <th>3_yr_roi</th>\n",
       "      <th>07_11_roi</th>\n",
       "    </tr>\n",
       "  </thead>\n",
       "  <tbody>\n",
       "    <tr>\n",
       "      <th>117</th>\n",
       "      <td>62022</td>\n",
       "      <td>11211</td>\n",
       "      <td>New York</td>\n",
       "      <td>NY</td>\n",
       "      <td>New York</td>\n",
       "      <td>Kings</td>\n",
       "      <td>118</td>\n",
       "      <td>133200.0</td>\n",
       "      <td>132900.0</td>\n",
       "      <td>132500.0</td>\n",
       "      <td>...</td>\n",
       "      <td>1424700</td>\n",
       "      <td>1435300</td>\n",
       "      <td>1440500</td>\n",
       "      <td>1463100</td>\n",
       "      <td>1496100</td>\n",
       "      <td>1531100</td>\n",
       "      <td>1581900</td>\n",
       "      <td>1623700</td>\n",
       "      <td>0.507894</td>\n",
       "      <td>-0.115706</td>\n",
       "    </tr>\n",
       "    <tr>\n",
       "      <th>2043</th>\n",
       "      <td>62005</td>\n",
       "      <td>11102</td>\n",
       "      <td>New York</td>\n",
       "      <td>NY</td>\n",
       "      <td>New York</td>\n",
       "      <td>Queens</td>\n",
       "      <td>2044</td>\n",
       "      <td>168600.0</td>\n",
       "      <td>169500.0</td>\n",
       "      <td>170400.0</td>\n",
       "      <td>...</td>\n",
       "      <td>1010800</td>\n",
       "      <td>1008000</td>\n",
       "      <td>1027500</td>\n",
       "      <td>1053700</td>\n",
       "      <td>1071500</td>\n",
       "      <td>1072700</td>\n",
       "      <td>1088200</td>\n",
       "      <td>1112100</td>\n",
       "      <td>0.506298</td>\n",
       "      <td>-0.119327</td>\n",
       "    </tr>\n",
       "    <tr>\n",
       "      <th>156</th>\n",
       "      <td>62048</td>\n",
       "      <td>11238</td>\n",
       "      <td>New York</td>\n",
       "      <td>NY</td>\n",
       "      <td>New York</td>\n",
       "      <td>Kings</td>\n",
       "      <td>157</td>\n",
       "      <td>NaN</td>\n",
       "      <td>NaN</td>\n",
       "      <td>NaN</td>\n",
       "      <td>...</td>\n",
       "      <td>2716500</td>\n",
       "      <td>2724000</td>\n",
       "      <td>2744300</td>\n",
       "      <td>2768900</td>\n",
       "      <td>2810700</td>\n",
       "      <td>2848100</td>\n",
       "      <td>2869600</td>\n",
       "      <td>2885300</td>\n",
       "      <td>0.398526</td>\n",
       "      <td>-0.002756</td>\n",
       "    </tr>\n",
       "    <tr>\n",
       "      <th>1155</th>\n",
       "      <td>62033</td>\n",
       "      <td>11222</td>\n",
       "      <td>New York</td>\n",
       "      <td>NY</td>\n",
       "      <td>New York</td>\n",
       "      <td>Kings</td>\n",
       "      <td>1156</td>\n",
       "      <td>149200.0</td>\n",
       "      <td>148400.0</td>\n",
       "      <td>147500.0</td>\n",
       "      <td>...</td>\n",
       "      <td>1638700</td>\n",
       "      <td>1640400</td>\n",
       "      <td>1644100</td>\n",
       "      <td>1651200</td>\n",
       "      <td>1661800</td>\n",
       "      <td>1672800</td>\n",
       "      <td>1694000</td>\n",
       "      <td>1721100</td>\n",
       "      <td>0.383187</td>\n",
       "      <td>-0.072898</td>\n",
       "    </tr>\n",
       "    <tr>\n",
       "      <th>5840</th>\n",
       "      <td>62182</td>\n",
       "      <td>11694</td>\n",
       "      <td>New York</td>\n",
       "      <td>NY</td>\n",
       "      <td>New York</td>\n",
       "      <td>Queens</td>\n",
       "      <td>5841</td>\n",
       "      <td>285700.0</td>\n",
       "      <td>286600.0</td>\n",
       "      <td>287600.0</td>\n",
       "      <td>...</td>\n",
       "      <td>874400</td>\n",
       "      <td>880400</td>\n",
       "      <td>880900</td>\n",
       "      <td>885800</td>\n",
       "      <td>893000</td>\n",
       "      <td>896400</td>\n",
       "      <td>902900</td>\n",
       "      <td>912100</td>\n",
       "      <td>0.347466</td>\n",
       "      <td>-0.106343</td>\n",
       "    </tr>\n",
       "    <tr>\n",
       "      <th>72</th>\n",
       "      <td>62039</td>\n",
       "      <td>11229</td>\n",
       "      <td>New York</td>\n",
       "      <td>NY</td>\n",
       "      <td>New York</td>\n",
       "      <td>Kings</td>\n",
       "      <td>73</td>\n",
       "      <td>183900.0</td>\n",
       "      <td>184200.0</td>\n",
       "      <td>184500.0</td>\n",
       "      <td>...</td>\n",
       "      <td>734500</td>\n",
       "      <td>735500</td>\n",
       "      <td>736100</td>\n",
       "      <td>741000</td>\n",
       "      <td>748100</td>\n",
       "      <td>755800</td>\n",
       "      <td>766200</td>\n",
       "      <td>775500</td>\n",
       "      <td>0.341928</td>\n",
       "      <td>-0.110645</td>\n",
       "    </tr>\n",
       "    <tr>\n",
       "      <th>2790</th>\n",
       "      <td>62008</td>\n",
       "      <td>11105</td>\n",
       "      <td>New York</td>\n",
       "      <td>NY</td>\n",
       "      <td>New York</td>\n",
       "      <td>Queens</td>\n",
       "      <td>2791</td>\n",
       "      <td>185700.0</td>\n",
       "      <td>186300.0</td>\n",
       "      <td>187000.0</td>\n",
       "      <td>...</td>\n",
       "      <td>911800</td>\n",
       "      <td>915900</td>\n",
       "      <td>912800</td>\n",
       "      <td>900800</td>\n",
       "      <td>897900</td>\n",
       "      <td>904900</td>\n",
       "      <td>918000</td>\n",
       "      <td>929200</td>\n",
       "      <td>0.326481</td>\n",
       "      <td>-0.109234</td>\n",
       "    </tr>\n",
       "    <tr>\n",
       "      <th>811</th>\n",
       "      <td>62035</td>\n",
       "      <td>11224</td>\n",
       "      <td>New York</td>\n",
       "      <td>NY</td>\n",
       "      <td>New York</td>\n",
       "      <td>Kings</td>\n",
       "      <td>812</td>\n",
       "      <td>158000.0</td>\n",
       "      <td>157300.0</td>\n",
       "      <td>156700.0</td>\n",
       "      <td>...</td>\n",
       "      <td>490800</td>\n",
       "      <td>494400</td>\n",
       "      <td>496000</td>\n",
       "      <td>498700</td>\n",
       "      <td>502000</td>\n",
       "      <td>505600</td>\n",
       "      <td>511600</td>\n",
       "      <td>517900</td>\n",
       "      <td>0.316472</td>\n",
       "      <td>-0.094418</td>\n",
       "    </tr>\n",
       "    <tr>\n",
       "      <th>552</th>\n",
       "      <td>62066</td>\n",
       "      <td>11354</td>\n",
       "      <td>New York</td>\n",
       "      <td>NY</td>\n",
       "      <td>New York</td>\n",
       "      <td>Queens</td>\n",
       "      <td>553</td>\n",
       "      <td>225300.0</td>\n",
       "      <td>226500.0</td>\n",
       "      <td>227800.0</td>\n",
       "      <td>...</td>\n",
       "      <td>892400</td>\n",
       "      <td>903100</td>\n",
       "      <td>911000</td>\n",
       "      <td>916500</td>\n",
       "      <td>923500</td>\n",
       "      <td>929900</td>\n",
       "      <td>935700</td>\n",
       "      <td>941200</td>\n",
       "      <td>0.315628</td>\n",
       "      <td>-0.116371</td>\n",
       "    </tr>\n",
       "    <tr>\n",
       "      <th>99</th>\n",
       "      <td>62067</td>\n",
       "      <td>11355</td>\n",
       "      <td>New York</td>\n",
       "      <td>NY</td>\n",
       "      <td>New York</td>\n",
       "      <td>Queens</td>\n",
       "      <td>100</td>\n",
       "      <td>182800.0</td>\n",
       "      <td>182500.0</td>\n",
       "      <td>182300.0</td>\n",
       "      <td>...</td>\n",
       "      <td>853000</td>\n",
       "      <td>859500</td>\n",
       "      <td>865500</td>\n",
       "      <td>871400</td>\n",
       "      <td>875900</td>\n",
       "      <td>877300</td>\n",
       "      <td>882400</td>\n",
       "      <td>890200</td>\n",
       "      <td>0.304322</td>\n",
       "      <td>-0.084823</td>\n",
       "    </tr>\n",
       "  </tbody>\n",
       "</table>\n",
       "<p>10 rows × 274 columns</p>\n",
       "</div>"
      ],
      "text/plain": [
       "      RegionID  RegionName      City State     Metro CountyName  SizeRank  \\\n",
       "117      62022       11211  New York    NY  New York      Kings       118   \n",
       "2043     62005       11102  New York    NY  New York     Queens      2044   \n",
       "156      62048       11238  New York    NY  New York      Kings       157   \n",
       "1155     62033       11222  New York    NY  New York      Kings      1156   \n",
       "5840     62182       11694  New York    NY  New York     Queens      5841   \n",
       "72       62039       11229  New York    NY  New York      Kings        73   \n",
       "2790     62008       11105  New York    NY  New York     Queens      2791   \n",
       "811      62035       11224  New York    NY  New York      Kings       812   \n",
       "552      62066       11354  New York    NY  New York     Queens       553   \n",
       "99       62067       11355  New York    NY  New York     Queens       100   \n",
       "\n",
       "       1996-04   1996-05   1996-06  ...  2017-09  2017-10  2017-11  2017-12  \\\n",
       "117   133200.0  132900.0  132500.0  ...  1424700  1435300  1440500  1463100   \n",
       "2043  168600.0  169500.0  170400.0  ...  1010800  1008000  1027500  1053700   \n",
       "156        NaN       NaN       NaN  ...  2716500  2724000  2744300  2768900   \n",
       "1155  149200.0  148400.0  147500.0  ...  1638700  1640400  1644100  1651200   \n",
       "5840  285700.0  286600.0  287600.0  ...   874400   880400   880900   885800   \n",
       "72    183900.0  184200.0  184500.0  ...   734500   735500   736100   741000   \n",
       "2790  185700.0  186300.0  187000.0  ...   911800   915900   912800   900800   \n",
       "811   158000.0  157300.0  156700.0  ...   490800   494400   496000   498700   \n",
       "552   225300.0  226500.0  227800.0  ...   892400   903100   911000   916500   \n",
       "99    182800.0  182500.0  182300.0  ...   853000   859500   865500   871400   \n",
       "\n",
       "      2018-01  2018-02  2018-03  2018-04  3_yr_roi  07_11_roi  \n",
       "117   1496100  1531100  1581900  1623700  0.507894  -0.115706  \n",
       "2043  1071500  1072700  1088200  1112100  0.506298  -0.119327  \n",
       "156   2810700  2848100  2869600  2885300  0.398526  -0.002756  \n",
       "1155  1661800  1672800  1694000  1721100  0.383187  -0.072898  \n",
       "5840   893000   896400   902900   912100  0.347466  -0.106343  \n",
       "72     748100   755800   766200   775500  0.341928  -0.110645  \n",
       "2790   897900   904900   918000   929200  0.326481  -0.109234  \n",
       "811    502000   505600   511600   517900  0.316472  -0.094418  \n",
       "552    923500   929900   935700   941200  0.315628  -0.116371  \n",
       "99     875900   877300   882400   890200  0.304322  -0.084823  \n",
       "\n",
       "[10 rows x 274 columns]"
      ]
     },
     "execution_count": 7,
     "metadata": {},
     "output_type": "execute_result"
    }
   ],
   "source": [
    "ny_df[(ny_df['07_11_roi'] > -0.125) & (ny_df['3_yr_roi'] > 0.3)].sort_values(by = '3_yr_roi', ascending = False)"
   ]
  },
  {
   "cell_type": "code",
   "execution_count": 8,
   "metadata": {},
   "outputs": [],
   "source": [
    "top10 = ny_df[(ny_df['07_11_roi'] > -0.125) & (ny_df['3_yr_roi'] > 0.3)].sort_values(by = '3_yr_roi')"
   ]
  },
  {
   "cell_type": "code",
   "execution_count": 9,
   "metadata": {},
   "outputs": [
    {
     "data": {
      "text/html": [
       "<div>\n",
       "<style scoped>\n",
       "    .dataframe tbody tr th:only-of-type {\n",
       "        vertical-align: middle;\n",
       "    }\n",
       "\n",
       "    .dataframe tbody tr th {\n",
       "        vertical-align: top;\n",
       "    }\n",
       "\n",
       "    .dataframe thead th {\n",
       "        text-align: right;\n",
       "    }\n",
       "</style>\n",
       "<table border=\"1\" class=\"dataframe\">\n",
       "  <thead>\n",
       "    <tr style=\"text-align: right;\">\n",
       "      <th></th>\n",
       "      <th>RegionID</th>\n",
       "      <th>RegionName</th>\n",
       "      <th>City</th>\n",
       "      <th>State</th>\n",
       "      <th>Metro</th>\n",
       "      <th>CountyName</th>\n",
       "      <th>SizeRank</th>\n",
       "      <th>1996-04</th>\n",
       "      <th>1996-05</th>\n",
       "      <th>1996-06</th>\n",
       "      <th>...</th>\n",
       "      <th>2017-09</th>\n",
       "      <th>2017-10</th>\n",
       "      <th>2017-11</th>\n",
       "      <th>2017-12</th>\n",
       "      <th>2018-01</th>\n",
       "      <th>2018-02</th>\n",
       "      <th>2018-03</th>\n",
       "      <th>2018-04</th>\n",
       "      <th>3_yr_roi</th>\n",
       "      <th>07_11_roi</th>\n",
       "    </tr>\n",
       "  </thead>\n",
       "  <tbody>\n",
       "    <tr>\n",
       "      <th>99</th>\n",
       "      <td>62067</td>\n",
       "      <td>11355</td>\n",
       "      <td>New York</td>\n",
       "      <td>NY</td>\n",
       "      <td>New York</td>\n",
       "      <td>Queens</td>\n",
       "      <td>100</td>\n",
       "      <td>182800.0</td>\n",
       "      <td>182500.0</td>\n",
       "      <td>182300.0</td>\n",
       "      <td>...</td>\n",
       "      <td>853000</td>\n",
       "      <td>859500</td>\n",
       "      <td>865500</td>\n",
       "      <td>871400</td>\n",
       "      <td>875900</td>\n",
       "      <td>877300</td>\n",
       "      <td>882400</td>\n",
       "      <td>890200</td>\n",
       "      <td>0.304322</td>\n",
       "      <td>-0.084823</td>\n",
       "    </tr>\n",
       "    <tr>\n",
       "      <th>552</th>\n",
       "      <td>62066</td>\n",
       "      <td>11354</td>\n",
       "      <td>New York</td>\n",
       "      <td>NY</td>\n",
       "      <td>New York</td>\n",
       "      <td>Queens</td>\n",
       "      <td>553</td>\n",
       "      <td>225300.0</td>\n",
       "      <td>226500.0</td>\n",
       "      <td>227800.0</td>\n",
       "      <td>...</td>\n",
       "      <td>892400</td>\n",
       "      <td>903100</td>\n",
       "      <td>911000</td>\n",
       "      <td>916500</td>\n",
       "      <td>923500</td>\n",
       "      <td>929900</td>\n",
       "      <td>935700</td>\n",
       "      <td>941200</td>\n",
       "      <td>0.315628</td>\n",
       "      <td>-0.116371</td>\n",
       "    </tr>\n",
       "    <tr>\n",
       "      <th>811</th>\n",
       "      <td>62035</td>\n",
       "      <td>11224</td>\n",
       "      <td>New York</td>\n",
       "      <td>NY</td>\n",
       "      <td>New York</td>\n",
       "      <td>Kings</td>\n",
       "      <td>812</td>\n",
       "      <td>158000.0</td>\n",
       "      <td>157300.0</td>\n",
       "      <td>156700.0</td>\n",
       "      <td>...</td>\n",
       "      <td>490800</td>\n",
       "      <td>494400</td>\n",
       "      <td>496000</td>\n",
       "      <td>498700</td>\n",
       "      <td>502000</td>\n",
       "      <td>505600</td>\n",
       "      <td>511600</td>\n",
       "      <td>517900</td>\n",
       "      <td>0.316472</td>\n",
       "      <td>-0.094418</td>\n",
       "    </tr>\n",
       "    <tr>\n",
       "      <th>2790</th>\n",
       "      <td>62008</td>\n",
       "      <td>11105</td>\n",
       "      <td>New York</td>\n",
       "      <td>NY</td>\n",
       "      <td>New York</td>\n",
       "      <td>Queens</td>\n",
       "      <td>2791</td>\n",
       "      <td>185700.0</td>\n",
       "      <td>186300.0</td>\n",
       "      <td>187000.0</td>\n",
       "      <td>...</td>\n",
       "      <td>911800</td>\n",
       "      <td>915900</td>\n",
       "      <td>912800</td>\n",
       "      <td>900800</td>\n",
       "      <td>897900</td>\n",
       "      <td>904900</td>\n",
       "      <td>918000</td>\n",
       "      <td>929200</td>\n",
       "      <td>0.326481</td>\n",
       "      <td>-0.109234</td>\n",
       "    </tr>\n",
       "    <tr>\n",
       "      <th>72</th>\n",
       "      <td>62039</td>\n",
       "      <td>11229</td>\n",
       "      <td>New York</td>\n",
       "      <td>NY</td>\n",
       "      <td>New York</td>\n",
       "      <td>Kings</td>\n",
       "      <td>73</td>\n",
       "      <td>183900.0</td>\n",
       "      <td>184200.0</td>\n",
       "      <td>184500.0</td>\n",
       "      <td>...</td>\n",
       "      <td>734500</td>\n",
       "      <td>735500</td>\n",
       "      <td>736100</td>\n",
       "      <td>741000</td>\n",
       "      <td>748100</td>\n",
       "      <td>755800</td>\n",
       "      <td>766200</td>\n",
       "      <td>775500</td>\n",
       "      <td>0.341928</td>\n",
       "      <td>-0.110645</td>\n",
       "    </tr>\n",
       "    <tr>\n",
       "      <th>5840</th>\n",
       "      <td>62182</td>\n",
       "      <td>11694</td>\n",
       "      <td>New York</td>\n",
       "      <td>NY</td>\n",
       "      <td>New York</td>\n",
       "      <td>Queens</td>\n",
       "      <td>5841</td>\n",
       "      <td>285700.0</td>\n",
       "      <td>286600.0</td>\n",
       "      <td>287600.0</td>\n",
       "      <td>...</td>\n",
       "      <td>874400</td>\n",
       "      <td>880400</td>\n",
       "      <td>880900</td>\n",
       "      <td>885800</td>\n",
       "      <td>893000</td>\n",
       "      <td>896400</td>\n",
       "      <td>902900</td>\n",
       "      <td>912100</td>\n",
       "      <td>0.347466</td>\n",
       "      <td>-0.106343</td>\n",
       "    </tr>\n",
       "    <tr>\n",
       "      <th>1155</th>\n",
       "      <td>62033</td>\n",
       "      <td>11222</td>\n",
       "      <td>New York</td>\n",
       "      <td>NY</td>\n",
       "      <td>New York</td>\n",
       "      <td>Kings</td>\n",
       "      <td>1156</td>\n",
       "      <td>149200.0</td>\n",
       "      <td>148400.0</td>\n",
       "      <td>147500.0</td>\n",
       "      <td>...</td>\n",
       "      <td>1638700</td>\n",
       "      <td>1640400</td>\n",
       "      <td>1644100</td>\n",
       "      <td>1651200</td>\n",
       "      <td>1661800</td>\n",
       "      <td>1672800</td>\n",
       "      <td>1694000</td>\n",
       "      <td>1721100</td>\n",
       "      <td>0.383187</td>\n",
       "      <td>-0.072898</td>\n",
       "    </tr>\n",
       "    <tr>\n",
       "      <th>156</th>\n",
       "      <td>62048</td>\n",
       "      <td>11238</td>\n",
       "      <td>New York</td>\n",
       "      <td>NY</td>\n",
       "      <td>New York</td>\n",
       "      <td>Kings</td>\n",
       "      <td>157</td>\n",
       "      <td>NaN</td>\n",
       "      <td>NaN</td>\n",
       "      <td>NaN</td>\n",
       "      <td>...</td>\n",
       "      <td>2716500</td>\n",
       "      <td>2724000</td>\n",
       "      <td>2744300</td>\n",
       "      <td>2768900</td>\n",
       "      <td>2810700</td>\n",
       "      <td>2848100</td>\n",
       "      <td>2869600</td>\n",
       "      <td>2885300</td>\n",
       "      <td>0.398526</td>\n",
       "      <td>-0.002756</td>\n",
       "    </tr>\n",
       "    <tr>\n",
       "      <th>2043</th>\n",
       "      <td>62005</td>\n",
       "      <td>11102</td>\n",
       "      <td>New York</td>\n",
       "      <td>NY</td>\n",
       "      <td>New York</td>\n",
       "      <td>Queens</td>\n",
       "      <td>2044</td>\n",
       "      <td>168600.0</td>\n",
       "      <td>169500.0</td>\n",
       "      <td>170400.0</td>\n",
       "      <td>...</td>\n",
       "      <td>1010800</td>\n",
       "      <td>1008000</td>\n",
       "      <td>1027500</td>\n",
       "      <td>1053700</td>\n",
       "      <td>1071500</td>\n",
       "      <td>1072700</td>\n",
       "      <td>1088200</td>\n",
       "      <td>1112100</td>\n",
       "      <td>0.506298</td>\n",
       "      <td>-0.119327</td>\n",
       "    </tr>\n",
       "    <tr>\n",
       "      <th>117</th>\n",
       "      <td>62022</td>\n",
       "      <td>11211</td>\n",
       "      <td>New York</td>\n",
       "      <td>NY</td>\n",
       "      <td>New York</td>\n",
       "      <td>Kings</td>\n",
       "      <td>118</td>\n",
       "      <td>133200.0</td>\n",
       "      <td>132900.0</td>\n",
       "      <td>132500.0</td>\n",
       "      <td>...</td>\n",
       "      <td>1424700</td>\n",
       "      <td>1435300</td>\n",
       "      <td>1440500</td>\n",
       "      <td>1463100</td>\n",
       "      <td>1496100</td>\n",
       "      <td>1531100</td>\n",
       "      <td>1581900</td>\n",
       "      <td>1623700</td>\n",
       "      <td>0.507894</td>\n",
       "      <td>-0.115706</td>\n",
       "    </tr>\n",
       "  </tbody>\n",
       "</table>\n",
       "<p>10 rows × 274 columns</p>\n",
       "</div>"
      ],
      "text/plain": [
       "      RegionID  RegionName      City State     Metro CountyName  SizeRank  \\\n",
       "99       62067       11355  New York    NY  New York     Queens       100   \n",
       "552      62066       11354  New York    NY  New York     Queens       553   \n",
       "811      62035       11224  New York    NY  New York      Kings       812   \n",
       "2790     62008       11105  New York    NY  New York     Queens      2791   \n",
       "72       62039       11229  New York    NY  New York      Kings        73   \n",
       "5840     62182       11694  New York    NY  New York     Queens      5841   \n",
       "1155     62033       11222  New York    NY  New York      Kings      1156   \n",
       "156      62048       11238  New York    NY  New York      Kings       157   \n",
       "2043     62005       11102  New York    NY  New York     Queens      2044   \n",
       "117      62022       11211  New York    NY  New York      Kings       118   \n",
       "\n",
       "       1996-04   1996-05   1996-06  ...  2017-09  2017-10  2017-11  2017-12  \\\n",
       "99    182800.0  182500.0  182300.0  ...   853000   859500   865500   871400   \n",
       "552   225300.0  226500.0  227800.0  ...   892400   903100   911000   916500   \n",
       "811   158000.0  157300.0  156700.0  ...   490800   494400   496000   498700   \n",
       "2790  185700.0  186300.0  187000.0  ...   911800   915900   912800   900800   \n",
       "72    183900.0  184200.0  184500.0  ...   734500   735500   736100   741000   \n",
       "5840  285700.0  286600.0  287600.0  ...   874400   880400   880900   885800   \n",
       "1155  149200.0  148400.0  147500.0  ...  1638700  1640400  1644100  1651200   \n",
       "156        NaN       NaN       NaN  ...  2716500  2724000  2744300  2768900   \n",
       "2043  168600.0  169500.0  170400.0  ...  1010800  1008000  1027500  1053700   \n",
       "117   133200.0  132900.0  132500.0  ...  1424700  1435300  1440500  1463100   \n",
       "\n",
       "      2018-01  2018-02  2018-03  2018-04  3_yr_roi  07_11_roi  \n",
       "99     875900   877300   882400   890200  0.304322  -0.084823  \n",
       "552    923500   929900   935700   941200  0.315628  -0.116371  \n",
       "811    502000   505600   511600   517900  0.316472  -0.094418  \n",
       "2790   897900   904900   918000   929200  0.326481  -0.109234  \n",
       "72     748100   755800   766200   775500  0.341928  -0.110645  \n",
       "5840   893000   896400   902900   912100  0.347466  -0.106343  \n",
       "1155  1661800  1672800  1694000  1721100  0.383187  -0.072898  \n",
       "156   2810700  2848100  2869600  2885300  0.398526  -0.002756  \n",
       "2043  1071500  1072700  1088200  1112100  0.506298  -0.119327  \n",
       "117   1496100  1531100  1581900  1623700  0.507894  -0.115706  \n",
       "\n",
       "[10 rows x 274 columns]"
      ]
     },
     "execution_count": 9,
     "metadata": {},
     "output_type": "execute_result"
    }
   ],
   "source": [
    "top10"
   ]
  },
  {
   "cell_type": "code",
   "execution_count": 280,
   "metadata": {},
   "outputs": [
    {
     "data": {
      "text/html": [
       "<div>\n",
       "<style scoped>\n",
       "    .dataframe tbody tr th:only-of-type {\n",
       "        vertical-align: middle;\n",
       "    }\n",
       "\n",
       "    .dataframe tbody tr th {\n",
       "        vertical-align: top;\n",
       "    }\n",
       "\n",
       "    .dataframe thead th {\n",
       "        text-align: right;\n",
       "    }\n",
       "</style>\n",
       "<table border=\"1\" class=\"dataframe\">\n",
       "  <thead>\n",
       "    <tr style=\"text-align: right;\">\n",
       "      <th></th>\n",
       "      <th>RegionID</th>\n",
       "      <th>RegionName</th>\n",
       "      <th>City</th>\n",
       "      <th>State</th>\n",
       "      <th>Metro</th>\n",
       "      <th>CountyName</th>\n",
       "      <th>SizeRank</th>\n",
       "      <th>1996-04</th>\n",
       "      <th>1996-05</th>\n",
       "      <th>1996-06</th>\n",
       "      <th>...</th>\n",
       "      <th>2017-09</th>\n",
       "      <th>2017-10</th>\n",
       "      <th>2017-11</th>\n",
       "      <th>2017-12</th>\n",
       "      <th>2018-01</th>\n",
       "      <th>2018-02</th>\n",
       "      <th>2018-03</th>\n",
       "      <th>2018-04</th>\n",
       "      <th>3_yr_roi</th>\n",
       "      <th>07_11_roi</th>\n",
       "    </tr>\n",
       "  </thead>\n",
       "  <tbody>\n",
       "    <tr>\n",
       "      <th>99</th>\n",
       "      <td>62067</td>\n",
       "      <td>11355</td>\n",
       "      <td>New York</td>\n",
       "      <td>NY</td>\n",
       "      <td>New York</td>\n",
       "      <td>Queens</td>\n",
       "      <td>100</td>\n",
       "      <td>182800.0</td>\n",
       "      <td>182500.0</td>\n",
       "      <td>182300.0</td>\n",
       "      <td>...</td>\n",
       "      <td>853000</td>\n",
       "      <td>859500</td>\n",
       "      <td>865500</td>\n",
       "      <td>871400</td>\n",
       "      <td>875900</td>\n",
       "      <td>877300</td>\n",
       "      <td>882400</td>\n",
       "      <td>890200</td>\n",
       "      <td>0.304322</td>\n",
       "      <td>-0.084823</td>\n",
       "    </tr>\n",
       "  </tbody>\n",
       "</table>\n",
       "<p>1 rows × 274 columns</p>\n",
       "</div>"
      ],
      "text/plain": [
       "    RegionID  RegionName      City State     Metro CountyName  SizeRank  \\\n",
       "99     62067       11355  New York    NY  New York     Queens       100   \n",
       "\n",
       "     1996-04   1996-05   1996-06  ...  2017-09  2017-10  2017-11  2017-12  \\\n",
       "99  182800.0  182500.0  182300.0  ...   853000   859500   865500   871400   \n",
       "\n",
       "    2018-01  2018-02  2018-03  2018-04  3_yr_roi  07_11_roi  \n",
       "99   875900   877300   882400   890200  0.304322  -0.084823  \n",
       "\n",
       "[1 rows x 274 columns]"
      ]
     },
     "execution_count": 280,
     "metadata": {},
     "output_type": "execute_result"
    }
   ],
   "source": [
    "top10[top10['RegionName'] == 11355]"
   ]
  },
  {
   "cell_type": "code",
   "execution_count": 10,
   "metadata": {},
   "outputs": [],
   "source": [
    "def melt_data(df):\n",
    "    \"\"\"\n",
    "    Takes the zillow_data dataset in wide form or a subset of the zillow_dataset.  \n",
    "    Returns a long-form datetime dataframe \n",
    "    with the datetime column names as the index and the values as the 'values' column.\n",
    "\n",
    "    If more than one row is passes in the wide-form dataset, the values column\n",
    "    will be the mean of the values from the datetime columns in all of the rows.\n",
    "    \"\"\"\n",
    "    \n",
    "    melted = pd.melt(df, id_vars=['RegionName', 'RegionID', 'SizeRank', 'City', 'State', 'Metro', 'CountyName', '3_yr_roi', '07_11_roi'], var_name='time')\n",
    "    melted['time'] = pd.to_datetime(melted['time'], infer_datetime_format=True)\n",
    "    melted = melted.dropna(subset=['value'])\n",
    "    return melted"
   ]
  },
  {
   "cell_type": "code",
   "execution_count": 506,
   "metadata": {},
   "outputs": [],
   "source": [
    "nyts = melt_data(top10[top10['RegionName'] == 11211])"
   ]
  },
  {
   "cell_type": "code",
   "execution_count": 454,
   "metadata": {},
   "outputs": [
    {
     "data": {
      "text/html": [
       "<div>\n",
       "<style scoped>\n",
       "    .dataframe tbody tr th:only-of-type {\n",
       "        vertical-align: middle;\n",
       "    }\n",
       "\n",
       "    .dataframe tbody tr th {\n",
       "        vertical-align: top;\n",
       "    }\n",
       "\n",
       "    .dataframe thead th {\n",
       "        text-align: right;\n",
       "    }\n",
       "</style>\n",
       "<table border=\"1\" class=\"dataframe\">\n",
       "  <thead>\n",
       "    <tr style=\"text-align: right;\">\n",
       "      <th></th>\n",
       "      <th>RegionName</th>\n",
       "      <th>RegionID</th>\n",
       "      <th>SizeRank</th>\n",
       "      <th>City</th>\n",
       "      <th>State</th>\n",
       "      <th>Metro</th>\n",
       "      <th>CountyName</th>\n",
       "      <th>3_yr_roi</th>\n",
       "      <th>07_11_roi</th>\n",
       "      <th>time</th>\n",
       "      <th>value</th>\n",
       "    </tr>\n",
       "  </thead>\n",
       "  <tbody>\n",
       "    <tr>\n",
       "      <th>0</th>\n",
       "      <td>11222</td>\n",
       "      <td>62033</td>\n",
       "      <td>1156</td>\n",
       "      <td>New York</td>\n",
       "      <td>NY</td>\n",
       "      <td>New York</td>\n",
       "      <td>Kings</td>\n",
       "      <td>0.383187</td>\n",
       "      <td>-0.072898</td>\n",
       "      <td>1996-04-01</td>\n",
       "      <td>149200.0</td>\n",
       "    </tr>\n",
       "    <tr>\n",
       "      <th>1</th>\n",
       "      <td>11222</td>\n",
       "      <td>62033</td>\n",
       "      <td>1156</td>\n",
       "      <td>New York</td>\n",
       "      <td>NY</td>\n",
       "      <td>New York</td>\n",
       "      <td>Kings</td>\n",
       "      <td>0.383187</td>\n",
       "      <td>-0.072898</td>\n",
       "      <td>1996-05-01</td>\n",
       "      <td>148400.0</td>\n",
       "    </tr>\n",
       "    <tr>\n",
       "      <th>2</th>\n",
       "      <td>11222</td>\n",
       "      <td>62033</td>\n",
       "      <td>1156</td>\n",
       "      <td>New York</td>\n",
       "      <td>NY</td>\n",
       "      <td>New York</td>\n",
       "      <td>Kings</td>\n",
       "      <td>0.383187</td>\n",
       "      <td>-0.072898</td>\n",
       "      <td>1996-06-01</td>\n",
       "      <td>147500.0</td>\n",
       "    </tr>\n",
       "    <tr>\n",
       "      <th>3</th>\n",
       "      <td>11222</td>\n",
       "      <td>62033</td>\n",
       "      <td>1156</td>\n",
       "      <td>New York</td>\n",
       "      <td>NY</td>\n",
       "      <td>New York</td>\n",
       "      <td>Kings</td>\n",
       "      <td>0.383187</td>\n",
       "      <td>-0.072898</td>\n",
       "      <td>1996-07-01</td>\n",
       "      <td>146600.0</td>\n",
       "    </tr>\n",
       "    <tr>\n",
       "      <th>4</th>\n",
       "      <td>11222</td>\n",
       "      <td>62033</td>\n",
       "      <td>1156</td>\n",
       "      <td>New York</td>\n",
       "      <td>NY</td>\n",
       "      <td>New York</td>\n",
       "      <td>Kings</td>\n",
       "      <td>0.383187</td>\n",
       "      <td>-0.072898</td>\n",
       "      <td>1996-08-01</td>\n",
       "      <td>146000.0</td>\n",
       "    </tr>\n",
       "    <tr>\n",
       "      <th>...</th>\n",
       "      <td>...</td>\n",
       "      <td>...</td>\n",
       "      <td>...</td>\n",
       "      <td>...</td>\n",
       "      <td>...</td>\n",
       "      <td>...</td>\n",
       "      <td>...</td>\n",
       "      <td>...</td>\n",
       "      <td>...</td>\n",
       "      <td>...</td>\n",
       "      <td>...</td>\n",
       "    </tr>\n",
       "    <tr>\n",
       "      <th>260</th>\n",
       "      <td>11222</td>\n",
       "      <td>62033</td>\n",
       "      <td>1156</td>\n",
       "      <td>New York</td>\n",
       "      <td>NY</td>\n",
       "      <td>New York</td>\n",
       "      <td>Kings</td>\n",
       "      <td>0.383187</td>\n",
       "      <td>-0.072898</td>\n",
       "      <td>2017-12-01</td>\n",
       "      <td>1651200.0</td>\n",
       "    </tr>\n",
       "    <tr>\n",
       "      <th>261</th>\n",
       "      <td>11222</td>\n",
       "      <td>62033</td>\n",
       "      <td>1156</td>\n",
       "      <td>New York</td>\n",
       "      <td>NY</td>\n",
       "      <td>New York</td>\n",
       "      <td>Kings</td>\n",
       "      <td>0.383187</td>\n",
       "      <td>-0.072898</td>\n",
       "      <td>2018-01-01</td>\n",
       "      <td>1661800.0</td>\n",
       "    </tr>\n",
       "    <tr>\n",
       "      <th>262</th>\n",
       "      <td>11222</td>\n",
       "      <td>62033</td>\n",
       "      <td>1156</td>\n",
       "      <td>New York</td>\n",
       "      <td>NY</td>\n",
       "      <td>New York</td>\n",
       "      <td>Kings</td>\n",
       "      <td>0.383187</td>\n",
       "      <td>-0.072898</td>\n",
       "      <td>2018-02-01</td>\n",
       "      <td>1672800.0</td>\n",
       "    </tr>\n",
       "    <tr>\n",
       "      <th>263</th>\n",
       "      <td>11222</td>\n",
       "      <td>62033</td>\n",
       "      <td>1156</td>\n",
       "      <td>New York</td>\n",
       "      <td>NY</td>\n",
       "      <td>New York</td>\n",
       "      <td>Kings</td>\n",
       "      <td>0.383187</td>\n",
       "      <td>-0.072898</td>\n",
       "      <td>2018-03-01</td>\n",
       "      <td>1694000.0</td>\n",
       "    </tr>\n",
       "    <tr>\n",
       "      <th>264</th>\n",
       "      <td>11222</td>\n",
       "      <td>62033</td>\n",
       "      <td>1156</td>\n",
       "      <td>New York</td>\n",
       "      <td>NY</td>\n",
       "      <td>New York</td>\n",
       "      <td>Kings</td>\n",
       "      <td>0.383187</td>\n",
       "      <td>-0.072898</td>\n",
       "      <td>2018-04-01</td>\n",
       "      <td>1721100.0</td>\n",
       "    </tr>\n",
       "  </tbody>\n",
       "</table>\n",
       "<p>265 rows × 11 columns</p>\n",
       "</div>"
      ],
      "text/plain": [
       "     RegionName  RegionID  SizeRank      City State     Metro CountyName  \\\n",
       "0         11222     62033      1156  New York    NY  New York      Kings   \n",
       "1         11222     62033      1156  New York    NY  New York      Kings   \n",
       "2         11222     62033      1156  New York    NY  New York      Kings   \n",
       "3         11222     62033      1156  New York    NY  New York      Kings   \n",
       "4         11222     62033      1156  New York    NY  New York      Kings   \n",
       "..          ...       ...       ...       ...   ...       ...        ...   \n",
       "260       11222     62033      1156  New York    NY  New York      Kings   \n",
       "261       11222     62033      1156  New York    NY  New York      Kings   \n",
       "262       11222     62033      1156  New York    NY  New York      Kings   \n",
       "263       11222     62033      1156  New York    NY  New York      Kings   \n",
       "264       11222     62033      1156  New York    NY  New York      Kings   \n",
       "\n",
       "     3_yr_roi  07_11_roi       time      value  \n",
       "0    0.383187  -0.072898 1996-04-01   149200.0  \n",
       "1    0.383187  -0.072898 1996-05-01   148400.0  \n",
       "2    0.383187  -0.072898 1996-06-01   147500.0  \n",
       "3    0.383187  -0.072898 1996-07-01   146600.0  \n",
       "4    0.383187  -0.072898 1996-08-01   146000.0  \n",
       "..        ...        ...        ...        ...  \n",
       "260  0.383187  -0.072898 2017-12-01  1651200.0  \n",
       "261  0.383187  -0.072898 2018-01-01  1661800.0  \n",
       "262  0.383187  -0.072898 2018-02-01  1672800.0  \n",
       "263  0.383187  -0.072898 2018-03-01  1694000.0  \n",
       "264  0.383187  -0.072898 2018-04-01  1721100.0  \n",
       "\n",
       "[265 rows x 11 columns]"
      ]
     },
     "execution_count": 454,
     "metadata": {},
     "output_type": "execute_result"
    }
   ],
   "source": [
    "nyts"
   ]
  },
  {
   "cell_type": "code",
   "execution_count": 507,
   "metadata": {},
   "outputs": [],
   "source": [
    "nyts.drop(['RegionName', 'RegionID', 'City', 'State', 'Metro', 'CountyName', 'SizeRank', '3_yr_roi', '07_11_roi'], axis = 1, inplace = True)"
   ]
  },
  {
   "cell_type": "code",
   "execution_count": 508,
   "metadata": {},
   "outputs": [],
   "source": [
    "nyts.set_index('time', inplace = True)"
   ]
  },
  {
   "cell_type": "code",
   "execution_count": 509,
   "metadata": {},
   "outputs": [
    {
     "data": {
      "text/html": [
       "<div>\n",
       "<style scoped>\n",
       "    .dataframe tbody tr th:only-of-type {\n",
       "        vertical-align: middle;\n",
       "    }\n",
       "\n",
       "    .dataframe tbody tr th {\n",
       "        vertical-align: top;\n",
       "    }\n",
       "\n",
       "    .dataframe thead th {\n",
       "        text-align: right;\n",
       "    }\n",
       "</style>\n",
       "<table border=\"1\" class=\"dataframe\">\n",
       "  <thead>\n",
       "    <tr style=\"text-align: right;\">\n",
       "      <th></th>\n",
       "      <th>value</th>\n",
       "    </tr>\n",
       "    <tr>\n",
       "      <th>time</th>\n",
       "      <th></th>\n",
       "    </tr>\n",
       "  </thead>\n",
       "  <tbody>\n",
       "    <tr>\n",
       "      <th>1996-04-01</th>\n",
       "      <td>133200.0</td>\n",
       "    </tr>\n",
       "    <tr>\n",
       "      <th>1996-05-01</th>\n",
       "      <td>132900.0</td>\n",
       "    </tr>\n",
       "    <tr>\n",
       "      <th>1996-06-01</th>\n",
       "      <td>132500.0</td>\n",
       "    </tr>\n",
       "    <tr>\n",
       "      <th>1996-07-01</th>\n",
       "      <td>132200.0</td>\n",
       "    </tr>\n",
       "    <tr>\n",
       "      <th>1996-08-01</th>\n",
       "      <td>131800.0</td>\n",
       "    </tr>\n",
       "    <tr>\n",
       "      <th>...</th>\n",
       "      <td>...</td>\n",
       "    </tr>\n",
       "    <tr>\n",
       "      <th>2017-12-01</th>\n",
       "      <td>1463100.0</td>\n",
       "    </tr>\n",
       "    <tr>\n",
       "      <th>2018-01-01</th>\n",
       "      <td>1496100.0</td>\n",
       "    </tr>\n",
       "    <tr>\n",
       "      <th>2018-02-01</th>\n",
       "      <td>1531100.0</td>\n",
       "    </tr>\n",
       "    <tr>\n",
       "      <th>2018-03-01</th>\n",
       "      <td>1581900.0</td>\n",
       "    </tr>\n",
       "    <tr>\n",
       "      <th>2018-04-01</th>\n",
       "      <td>1623700.0</td>\n",
       "    </tr>\n",
       "  </tbody>\n",
       "</table>\n",
       "<p>265 rows × 1 columns</p>\n",
       "</div>"
      ],
      "text/plain": [
       "                value\n",
       "time                 \n",
       "1996-04-01   133200.0\n",
       "1996-05-01   132900.0\n",
       "1996-06-01   132500.0\n",
       "1996-07-01   132200.0\n",
       "1996-08-01   131800.0\n",
       "...               ...\n",
       "2017-12-01  1463100.0\n",
       "2018-01-01  1496100.0\n",
       "2018-02-01  1531100.0\n",
       "2018-03-01  1581900.0\n",
       "2018-04-01  1623700.0\n",
       "\n",
       "[265 rows x 1 columns]"
      ]
     },
     "execution_count": 509,
     "metadata": {},
     "output_type": "execute_result"
    }
   ],
   "source": [
    "nyts"
   ]
  },
  {
   "cell_type": "code",
   "execution_count": null,
   "metadata": {},
   "outputs": [],
   "source": []
  },
  {
   "cell_type": "code",
   "execution_count": 510,
   "metadata": {},
   "outputs": [],
   "source": [
    "ts = nyts['2011-01':'2017-04']"
   ]
  },
  {
   "cell_type": "code",
   "execution_count": null,
   "metadata": {},
   "outputs": [],
   "source": []
  },
  {
   "cell_type": "code",
   "execution_count": 16,
   "metadata": {},
   "outputs": [],
   "source": [
    "def stationarity_check(data):\n",
    "    roll_mean = data.rolling(window = 12, center = False).mean()\n",
    "    roll_std = data.rolling(window = 12, center = False).std()\n",
    "    fig = plt.figure(figsize=(12,7))\n",
    "    plt.plot(data, color='blue', label='Original')\n",
    "    plt.plot(roll_mean, color='red', label='Rolling Mean')\n",
    "    plt.plot(roll_std, color='black', label = 'Rolling Std')\n",
    "    plt.legend(loc='best')\n",
    "    plt.title('Rolling Mean & Standard Deviation')\n",
    "    plt.show(block=False)\n",
    "    dftest = adfuller(data)\n",
    "    dfoutput = pd.Series(dftest[0:4], index=['Test Statistic', 'p-value', '#Lags Used', 'Number of Observations Used'])\n",
    "    for key,value in dftest[4].items():\n",
    "        dfoutput['Critical Value (%s)'%key] = value\n",
    "    return dfoutput"
   ]
  },
  {
   "cell_type": "code",
   "execution_count": 511,
   "metadata": {
    "scrolled": false
   },
   "outputs": [
    {
     "data": {
      "image/png": "[encoded data removed]",
      "text/plain": [
       "<Figure size 864x504 with 1 Axes>"
      ]
     },
     "metadata": {
      "needs_background": "light"
     },
     "output_type": "display_data"
    },
    {
     "data": {
      "text/plain": [
       "Test Statistic                  0.314900\n",
       "p-value                         0.978018\n",
       "#Lags Used                     10.000000\n",
       "Number of Observations Used    65.000000\n",
       "Critical Value (1%)            -3.535217\n",
       "Critical Value (5%)            -2.907154\n",
       "Critical Value (10%)           -2.591103\n",
       "dtype: float64"
      ]
     },
     "execution_count": 511,
     "metadata": {},
     "output_type": "execute_result"
    }
   ],
   "source": [
    "stationarity_check(ts)"
   ]
  },
  {
   "cell_type": "code",
   "execution_count": 528,
   "metadata": {
    "scrolled": false
   },
   "outputs": [
    {
     "data": {
      "image/png": "[encoded data removed]",
      "text/plain": [
       "<Figure size 864x504 with 1 Axes>"
      ]
     },
     "metadata": {
      "needs_background": "light"
     },
     "output_type": "display_data"
    },
    {
     "data": {
      "text/plain": [
       "Test Statistic                 -3.366010\n",
       "p-value                         0.012174\n",
       "#Lags Used                      9.000000\n",
       "Number of Observations Used    65.000000\n",
       "Critical Value (1%)            -3.535217\n",
       "Critical Value (5%)            -2.907154\n",
       "Critical Value (10%)           -2.591103\n",
       "dtype: float64"
      ]
     },
     "execution_count": 528,
     "metadata": {},
     "output_type": "execute_result"
    }
   ],
   "source": [
    "stationarity_check(ts.diff(periods = 1).dropna())"
   ]
  },
  {
   "cell_type": "code",
   "execution_count": 527,
   "metadata": {},
   "outputs": [
    {
     "data": {
      "image/png": "[encoded data removed]",
      "text/plain": [
       "<Figure size 864x504 with 1 Axes>"
      ]
     },
     "metadata": {
      "needs_background": "light"
     },
     "output_type": "display_data"
    },
    {
     "data": {
      "text/plain": [
       "Test Statistic                 -3.055600\n",
       "p-value                         0.030018\n",
       "#Lags Used                     11.000000\n",
       "Number of Observations Used    62.000000\n",
       "Critical Value (1%)            -3.540523\n",
       "Critical Value (5%)            -2.909427\n",
       "Critical Value (10%)           -2.592314\n",
       "dtype: float64"
      ]
     },
     "execution_count": 527,
     "metadata": {},
     "output_type": "execute_result"
    }
   ],
   "source": [
    "stationarity_check(ts.diff(periods = 1).diff().dropna())"
   ]
  },
  {
   "cell_type": "code",
   "execution_count": 524,
   "metadata": {},
   "outputs": [],
   "source": [
    "ts_test = ts.diff(periods = 1).diff().dropna()"
   ]
  },
  {
   "cell_type": "code",
   "execution_count": 525,
   "metadata": {},
   "outputs": [
    {
     "data": {
      "image/png": "[encoded data removed]",
      "text/plain": [
       "<Figure size 432x288 with 1 Axes>"
      ]
     },
     "metadata": {
      "needs_background": "light"
     },
     "output_type": "display_data"
    }
   ],
   "source": [
    "plot_pacf(ts_test, lags = 25, method = 'ywm');"
   ]
  },
  {
   "cell_type": "code",
   "execution_count": 526,
   "metadata": {},
   "outputs": [
    {
     "data": {
      "image/png": "[encoded data removed]",
      "text/plain": [
       "<Figure size 432x288 with 1 Axes>"
      ]
     },
     "metadata": {
      "needs_background": "light"
     },
     "output_type": "display_data"
    }
   ],
   "source": [
    "plot_acf(ts_test, lags = 25);"
   ]
  },
  {
   "cell_type": "code",
   "execution_count": 91,
   "metadata": {},
   "outputs": [],
   "source": [
    "from pmdarima.arima.utils import ndiffs\n",
    "\n",
    "\n",
    "\n"
   ]
  },
  {
   "cell_type": "code",
   "execution_count": 90,
   "metadata": {},
   "outputs": [],
   "source": [
    "from pmdarima.arima.stationarity import ADFTest"
   ]
  },
  {
   "cell_type": "code",
   "execution_count": 370,
   "metadata": {},
   "outputs": [
    {
     "data": {
      "text/plain": [
       "(0.6576546234483253, True)"
      ]
     },
     "execution_count": 370,
     "metadata": {},
     "output_type": "execute_result"
    }
   ],
   "source": [
    "adf_test = ADFTest(alpha=0.05)\n",
    "adf_test.should_diff(ts)  # (0.01, False)"
   ]
  },
  {
   "cell_type": "code",
   "execution_count": 516,
   "metadata": {},
   "outputs": [
    {
     "data": {
      "text/plain": [
       "2"
      ]
     },
     "execution_count": 516,
     "metadata": {},
     "output_type": "execute_result"
    }
   ],
   "source": [
    "# Estimate the number of differences using an ADF test:\n",
    "n_adf = ndiffs(ts, test='adf')\n",
    "n_adf"
   ]
  },
  {
   "cell_type": "code",
   "execution_count": 517,
   "metadata": {},
   "outputs": [
    {
     "data": {
      "text/plain": [
       "1"
      ]
     },
     "execution_count": 517,
     "metadata": {},
     "output_type": "execute_result"
    }
   ],
   "source": [
    "# Or a KPSS test (auto_arima default):\n",
    "n_kpss = ndiffs(ts, test='kpss')  # -> 0\n",
    "n_kpss"
   ]
  },
  {
   "cell_type": "code",
   "execution_count": 406,
   "metadata": {},
   "outputs": [
    {
     "name": "stderr",
     "output_type": "stream",
     "text": [
      "C:\\Users\\Martian\\Anaconda3\\envs\\learn-env\\lib\\site-packages\\statsmodels\\tsa\\base\\tsa_model.py:471: ValueWarning: No frequency information was provided, so inferred frequency MS will be used.\n",
      "  self._init_dates(dates, freq)\n",
      "C:\\Users\\Martian\\Anaconda3\\envs\\learn-env\\lib\\site-packages\\statsmodels\\tsa\\base\\tsa_model.py:471: ValueWarning: No frequency information was provided, so inferred frequency MS will be used.\n",
      "  self._init_dates(dates, freq)\n"
     ]
    },
    {
     "data": {
      "text/html": [
       "<table class=\"simpletable\">\n",
       "<caption>SARIMAX Results</caption>\n",
       "<tr>\n",
       "  <th>Dep. Variable:</th>         <td>value</td>      <th>  No. Observations:  </th>    <td>76</td>   \n",
       "</tr>\n",
       "<tr>\n",
       "  <th>Model:</th>           <td>SARIMAX(0, 2, 0)</td> <th>  Log Likelihood     </th> <td>-713.767</td>\n",
       "</tr>\n",
       "<tr>\n",
       "  <th>Date:</th>            <td>Wed, 14 Dec 2022</td> <th>  AIC                </th> <td>1429.534</td>\n",
       "</tr>\n",
       "<tr>\n",
       "  <th>Time:</th>                <td>14:04:09</td>     <th>  BIC                </th> <td>1431.838</td>\n",
       "</tr>\n",
       "<tr>\n",
       "  <th>Sample:</th>             <td>01-01-2011</td>    <th>  HQIC               </th> <td>1430.453</td>\n",
       "</tr>\n",
       "<tr>\n",
       "  <th></th>                   <td>- 04-01-2017</td>   <th>                     </th>     <td> </td>   \n",
       "</tr>\n",
       "<tr>\n",
       "  <th>Covariance Type:</th>        <td>opg</td>       <th>                     </th>     <td> </td>   \n",
       "</tr>\n",
       "</table>\n",
       "<table class=\"simpletable\">\n",
       "<tr>\n",
       "     <td></td>       <th>coef</th>     <th>std err</th>      <th>z</th>      <th>P>|z|</th>  <th>[0.025</th>    <th>0.975]</th>  \n",
       "</tr>\n",
       "<tr>\n",
       "  <th>sigma2</th> <td> 1.361e+07</td> <td> 1.88e+06</td> <td>    7.241</td> <td> 0.000</td> <td> 9.92e+06</td> <td> 1.73e+07</td>\n",
       "</tr>\n",
       "</table>\n",
       "<table class=\"simpletable\">\n",
       "<tr>\n",
       "  <th>Ljung-Box (L1) (Q):</th>     <td>5.94</td> <th>  Jarque-Bera (JB):  </th> <td>2.93</td>\n",
       "</tr>\n",
       "<tr>\n",
       "  <th>Prob(Q):</th>                <td>0.01</td> <th>  Prob(JB):          </th> <td>0.23</td>\n",
       "</tr>\n",
       "<tr>\n",
       "  <th>Heteroskedasticity (H):</th> <td>1.95</td> <th>  Skew:              </th> <td>0.36</td>\n",
       "</tr>\n",
       "<tr>\n",
       "  <th>Prob(H) (two-sided):</th>    <td>0.10</td> <th>  Kurtosis:          </th> <td>3.65</td>\n",
       "</tr>\n",
       "</table><br/><br/>Warnings:<br/>[1] Covariance matrix calculated using the outer product of gradients (complex-step)."
      ],
      "text/plain": [
       "<class 'statsmodels.iolib.summary.Summary'>\n",
       "\"\"\"\n",
       "                               SARIMAX Results                                \n",
       "==============================================================================\n",
       "Dep. Variable:                  value   No. Observations:                   76\n",
       "Model:               SARIMAX(0, 2, 0)   Log Likelihood                -713.767\n",
       "Date:                Wed, 14 Dec 2022   AIC                           1429.534\n",
       "Time:                        14:04:09   BIC                           1431.838\n",
       "Sample:                    01-01-2011   HQIC                          1430.453\n",
       "                         - 04-01-2017                                         \n",
       "Covariance Type:                  opg                                         \n",
       "==============================================================================\n",
       "                 coef    std err          z      P>|z|      [0.025      0.975]\n",
       "------------------------------------------------------------------------------\n",
       "sigma2      1.361e+07   1.88e+06      7.241      0.000    9.92e+06    1.73e+07\n",
       "===================================================================================\n",
       "Ljung-Box (L1) (Q):                   5.94   Jarque-Bera (JB):                 2.93\n",
       "Prob(Q):                              0.01   Prob(JB):                         0.23\n",
       "Heteroskedasticity (H):               1.95   Skew:                             0.36\n",
       "Prob(H) (two-sided):                  0.10   Kurtosis:                         3.65\n",
       "===================================================================================\n",
       "\n",
       "Warnings:\n",
       "[1] Covariance matrix calculated using the outer product of gradients (complex-step).\n",
       "\"\"\""
      ]
     },
     "execution_count": 406,
     "metadata": {},
     "output_type": "execute_result"
    }
   ],
   "source": [
    "smodel = SARIMAX(ts, order = (0,2,0)).fit(maxiter=200)\n",
    "smodel.summary()"
   ]
  },
  {
   "cell_type": "code",
   "execution_count": 352,
   "metadata": {},
   "outputs": [],
   "source": [
    "residuals = smodel.resid"
   ]
  },
  {
   "cell_type": "code",
   "execution_count": 385,
   "metadata": {},
   "outputs": [
    {
     "data": {
      "image/png": "[encoded data removed]",
      "text/plain": [
       "<Figure size 1008x720 with 4 Axes>"
      ]
     },
     "metadata": {
      "needs_background": "light"
     },
     "output_type": "display_data"
    }
   ],
   "source": [
    "smodel.plot_diagnostics(figsize=(14,10));"
   ]
  },
  {
   "cell_type": "code",
   "execution_count": 354,
   "metadata": {},
   "outputs": [
    {
     "data": {
      "image/png": "[encoded data removed]",
      "text/plain": [
       "<Figure size 432x288 with 1 Axes>"
      ]
     },
     "metadata": {
      "needs_background": "light"
     },
     "output_type": "display_data"
    }
   ],
   "source": [
    "plot_pacf(residuals, method = 'ywm');"
   ]
  },
  {
   "cell_type": "code",
   "execution_count": 355,
   "metadata": {},
   "outputs": [
    {
     "data": {
      "image/png": "[encoded data removed]",
      "text/plain": [
       "<Figure size 432x288 with 1 Axes>"
      ]
     },
     "metadata": {
      "needs_background": "light"
     },
     "output_type": "display_data"
    }
   ],
   "source": [
    "plot_acf(residuals);"
   ]
  },
  {
   "cell_type": "code",
   "execution_count": 407,
   "metadata": {},
   "outputs": [
    {
     "data": {
      "text/plain": [
       "<AxesSubplot:xlabel='time'>"
      ]
     },
     "execution_count": 407,
     "metadata": {},
     "output_type": "execute_result"
    },
    {
     "data": {
      "image/png": "[encoded data removed]",
      "text/plain": [
       "<Figure size 432x288 with 1 Axes>"
      ]
     },
     "metadata": {
      "needs_background": "light"
     },
     "output_type": "display_data"
    }
   ],
   "source": [
    "smodel.forecast(12).plot()\n",
    "nyts['2011-01-01':].value.plot();\n",
    "smodel.predict()[2:].plot()"
   ]
  },
  {
   "cell_type": "code",
   "execution_count": 357,
   "metadata": {},
   "outputs": [
    {
     "data": {
      "image/png": "[encoded data removed]",
      "text/plain": [
       "<Figure size 432x288 with 1 Axes>"
      ]
     },
     "metadata": {
      "needs_background": "light"
     },
     "output_type": "display_data"
    }
   ],
   "source": [
    "smodel.forecast(12).plot()\n",
    "nyts['2017-05-01':].value.plot();"
   ]
  },
  {
   "cell_type": "code",
   "execution_count": 534,
   "metadata": {},
   "outputs": [
    {
     "name": "stdout",
     "output_type": "stream",
     "text": [
      "Performing stepwise search to minimize aic\n",
      " ARIMA(0,1,0)(0,0,0)[0] intercept   : AIC=1641.732, Time=0.02 sec\n",
      " ARIMA(1,1,0)(0,0,0)[0] intercept   : AIC=1705.700, Time=0.04 sec\n",
      " ARIMA(0,1,1)(0,0,0)[0] intercept   : AIC=1661.662, Time=0.03 sec\n",
      " ARIMA(0,1,0)(0,0,0)[0]             : AIC=1672.719, Time=0.02 sec\n",
      " ARIMA(1,1,1)(0,0,0)[0] intercept   : AIC=1644.702, Time=0.21 sec\n",
      "\n",
      "Best model:  ARIMA(0,1,0)(0,0,0)[0] intercept\n",
      "Total fit time: 0.330 seconds\n"
     ]
    },
    {
     "data": {
      "text/html": [
       "<table class=\"simpletable\">\n",
       "<caption>SARIMAX Results</caption>\n",
       "<tr>\n",
       "  <th>Dep. Variable:</th>           <td>y</td>        <th>  No. Observations:  </th>    <td>76</td>   \n",
       "</tr>\n",
       "<tr>\n",
       "  <th>Model:</th>           <td>SARIMAX(0, 1, 0)</td> <th>  Log Likelihood     </th> <td>-818.866</td>\n",
       "</tr>\n",
       "<tr>\n",
       "  <th>Date:</th>            <td>Wed, 14 Dec 2022</td> <th>  AIC                </th> <td>1641.732</td>\n",
       "</tr>\n",
       "<tr>\n",
       "  <th>Time:</th>                <td>14:21:13</td>     <th>  BIC                </th> <td>1646.367</td>\n",
       "</tr>\n",
       "<tr>\n",
       "  <th>Sample:</th>             <td>01-01-2011</td>    <th>  HQIC               </th> <td>1643.583</td>\n",
       "</tr>\n",
       "<tr>\n",
       "  <th></th>                   <td>- 04-01-2017</td>   <th>                     </th>     <td> </td>   \n",
       "</tr>\n",
       "<tr>\n",
       "  <th>Covariance Type:</th>        <td>opg</td>       <th>                     </th>     <td> </td>   \n",
       "</tr>\n",
       "</table>\n",
       "<table class=\"simpletable\">\n",
       "<tr>\n",
       "      <td></td>         <th>coef</th>     <th>std err</th>      <th>z</th>      <th>P>|z|</th>  <th>[0.025</th>    <th>0.975]</th>  \n",
       "</tr>\n",
       "<tr>\n",
       "  <th>intercept</th> <td> 9921.3333</td> <td> 1680.176</td> <td>    5.905</td> <td> 0.000</td> <td> 6628.250</td> <td> 1.32e+04</td>\n",
       "</tr>\n",
       "<tr>\n",
       "  <th>sigma2</th>    <td> 1.782e+08</td> <td>  2.9e+07</td> <td>    6.155</td> <td> 0.000</td> <td> 1.21e+08</td> <td> 2.35e+08</td>\n",
       "</tr>\n",
       "</table>\n",
       "<table class=\"simpletable\">\n",
       "<tr>\n",
       "  <th>Ljung-Box (L1) (Q):</th>     <td>40.94</td> <th>  Jarque-Bera (JB):  </th> <td>5.25</td>\n",
       "</tr>\n",
       "<tr>\n",
       "  <th>Prob(Q):</th>                <td>0.00</td>  <th>  Prob(JB):          </th> <td>0.07</td>\n",
       "</tr>\n",
       "<tr>\n",
       "  <th>Heteroskedasticity (H):</th> <td>8.82</td>  <th>  Skew:              </th> <td>0.62</td>\n",
       "</tr>\n",
       "<tr>\n",
       "  <th>Prob(H) (two-sided):</th>    <td>0.00</td>  <th>  Kurtosis:          </th> <td>3.40</td>\n",
       "</tr>\n",
       "</table><br/><br/>Warnings:<br/>[1] Covariance matrix calculated using the outer product of gradients (complex-step)."
      ],
      "text/plain": [
       "<class 'statsmodels.iolib.summary.Summary'>\n",
       "\"\"\"\n",
       "                               SARIMAX Results                                \n",
       "==============================================================================\n",
       "Dep. Variable:                      y   No. Observations:                   76\n",
       "Model:               SARIMAX(0, 1, 0)   Log Likelihood                -818.866\n",
       "Date:                Wed, 14 Dec 2022   AIC                           1641.732\n",
       "Time:                        14:21:13   BIC                           1646.367\n",
       "Sample:                    01-01-2011   HQIC                          1643.583\n",
       "                         - 04-01-2017                                         \n",
       "Covariance Type:                  opg                                         \n",
       "==============================================================================\n",
       "                 coef    std err          z      P>|z|      [0.025      0.975]\n",
       "------------------------------------------------------------------------------\n",
       "intercept   9921.3333   1680.176      5.905      0.000    6628.250    1.32e+04\n",
       "sigma2      1.782e+08    2.9e+07      6.155      0.000    1.21e+08    2.35e+08\n",
       "===================================================================================\n",
       "Ljung-Box (L1) (Q):                  40.94   Jarque-Bera (JB):                 5.25\n",
       "Prob(Q):                              0.00   Prob(JB):                         0.07\n",
       "Heteroskedasticity (H):               8.82   Skew:                             0.62\n",
       "Prob(H) (two-sided):                  0.00   Kurtosis:                         3.40\n",
       "===================================================================================\n",
       "\n",
       "Warnings:\n",
       "[1] Covariance matrix calculated using the outer product of gradients (complex-step).\n",
       "\"\"\""
      ]
     },
     "execution_count": 534,
     "metadata": {},
     "output_type": "execute_result"
    }
   ],
   "source": [
    "model = auto_arima(ts, start_p=0, start_q=0,\n",
    "                             max_p=3, max_q=3,\n",
    "                             start_P=0, start_Q = 0,\n",
    "                            trace=True,\n",
    "                             error_action='ignore',  # don't want to know if an order does not work\n",
    "                             suppress_warnings=True,  # don't want convergence warnings\n",
    "                             stepwise=True)  # set to stepwise\n",
    "\n",
    "                   \n",
    "model.fit(ts)\n",
    "model.summary()"
   ]
  },
  {
   "cell_type": "code",
   "execution_count": 519,
   "metadata": {},
   "outputs": [
    {
     "data": {
      "image/png": "[encoded data removed]",
      "text/plain": [
       "<Figure size 1008x720 with 4 Axes>"
      ]
     },
     "metadata": {
      "needs_background": "light"
     },
     "output_type": "display_data"
    }
   ],
   "source": [
    "model.plot_diagnostics(figsize=(14,10));"
   ]
  },
  {
   "cell_type": "code",
   "execution_count": 535,
   "metadata": {},
   "outputs": [
    {
     "data": {
      "text/plain": [
       "2017-05-01    1.346321e+06\n",
       "2017-06-01    1.356243e+06\n",
       "2017-07-01    1.366164e+06\n",
       "2017-08-01    1.376085e+06\n",
       "2017-09-01    1.386007e+06\n",
       "2017-10-01    1.395928e+06\n",
       "2017-11-01    1.405849e+06\n",
       "2017-12-01    1.415771e+06\n",
       "2018-01-01    1.425692e+06\n",
       "2018-02-01    1.435613e+06\n",
       "2018-03-01    1.445535e+06\n",
       "2018-04-01    1.455456e+06\n",
       "Freq: MS, dtype: float64"
      ]
     },
     "execution_count": 535,
     "metadata": {},
     "output_type": "execute_result"
    }
   ],
   "source": [
    "prediction, confint = model.predict(n_periods=12, return_conf_int=True)\n",
    "\n",
    "prediction "
   ]
  },
  {
   "cell_type": "code",
   "execution_count": 531,
   "metadata": {},
   "outputs": [
    {
     "data": {
      "text/plain": [
       "array([[1322936.88144133, 1361463.11855867],\n",
       "       [1304926.35744418, 1391073.64255582],\n",
       "       [1281724.01015265, 1425875.98984735],\n",
       "       [1254091.5543752 , 1465108.4456248 ],\n",
       "       [1222540.88928845, 1508259.11071155],\n",
       "       [1187441.56065342, 1554958.43934658],\n",
       "       [1149075.7074712 , 1604924.2925288 ],\n",
       "       [1107667.63500544, 1657932.36499456],\n",
       "       [1063401.1301795 , 1713798.8698205 ],\n",
       "       [1016430.32053739, 1772369.67946261],\n",
       "       [ 966886.86297053, 1833513.13702947],\n",
       "       [ 914884.91288345, 1897115.08711655]])"
      ]
     },
     "execution_count": 531,
     "metadata": {},
     "output_type": "execute_result"
    }
   ],
   "source": [
    "confint"
   ]
  },
  {
   "cell_type": "code",
   "execution_count": 532,
   "metadata": {},
   "outputs": [
    {
     "data": {
      "text/html": [
       "<div>\n",
       "<style scoped>\n",
       "    .dataframe tbody tr th:only-of-type {\n",
       "        vertical-align: middle;\n",
       "    }\n",
       "\n",
       "    .dataframe tbody tr th {\n",
       "        vertical-align: top;\n",
       "    }\n",
       "\n",
       "    .dataframe thead th {\n",
       "        text-align: right;\n",
       "    }\n",
       "</style>\n",
       "<table border=\"1\" class=\"dataframe\">\n",
       "  <thead>\n",
       "    <tr style=\"text-align: right;\">\n",
       "      <th></th>\n",
       "      <th>value</th>\n",
       "    </tr>\n",
       "    <tr>\n",
       "      <th>time</th>\n",
       "      <th></th>\n",
       "    </tr>\n",
       "  </thead>\n",
       "  <tbody>\n",
       "    <tr>\n",
       "      <th>2017-05-01</th>\n",
       "      <td>1376100.0</td>\n",
       "    </tr>\n",
       "    <tr>\n",
       "      <th>2017-06-01</th>\n",
       "      <td>1401700.0</td>\n",
       "    </tr>\n",
       "    <tr>\n",
       "      <th>2017-07-01</th>\n",
       "      <td>1405100.0</td>\n",
       "    </tr>\n",
       "    <tr>\n",
       "      <th>2017-08-01</th>\n",
       "      <td>1406400.0</td>\n",
       "    </tr>\n",
       "    <tr>\n",
       "      <th>2017-09-01</th>\n",
       "      <td>1424700.0</td>\n",
       "    </tr>\n",
       "    <tr>\n",
       "      <th>2017-10-01</th>\n",
       "      <td>1435300.0</td>\n",
       "    </tr>\n",
       "    <tr>\n",
       "      <th>2017-11-01</th>\n",
       "      <td>1440500.0</td>\n",
       "    </tr>\n",
       "    <tr>\n",
       "      <th>2017-12-01</th>\n",
       "      <td>1463100.0</td>\n",
       "    </tr>\n",
       "    <tr>\n",
       "      <th>2018-01-01</th>\n",
       "      <td>1496100.0</td>\n",
       "    </tr>\n",
       "    <tr>\n",
       "      <th>2018-02-01</th>\n",
       "      <td>1531100.0</td>\n",
       "    </tr>\n",
       "    <tr>\n",
       "      <th>2018-03-01</th>\n",
       "      <td>1581900.0</td>\n",
       "    </tr>\n",
       "    <tr>\n",
       "      <th>2018-04-01</th>\n",
       "      <td>1623700.0</td>\n",
       "    </tr>\n",
       "  </tbody>\n",
       "</table>\n",
       "</div>"
      ],
      "text/plain": [
       "                value\n",
       "time                 \n",
       "2017-05-01  1376100.0\n",
       "2017-06-01  1401700.0\n",
       "2017-07-01  1405100.0\n",
       "2017-08-01  1406400.0\n",
       "2017-09-01  1424700.0\n",
       "2017-10-01  1435300.0\n",
       "2017-11-01  1440500.0\n",
       "2017-12-01  1463100.0\n",
       "2018-01-01  1496100.0\n",
       "2018-02-01  1531100.0\n",
       "2018-03-01  1581900.0\n",
       "2018-04-01  1623700.0"
      ]
     },
     "execution_count": 532,
     "metadata": {},
     "output_type": "execute_result"
    }
   ],
   "source": [
    "nyts['2017-05-01':]"
   ]
  },
  {
   "cell_type": "code",
   "execution_count": 536,
   "metadata": {},
   "outputs": [
    {
     "data": {
      "image/png": "[encoded data removed]",
      "text/plain": [
       "<Figure size 432x288 with 1 Axes>"
      ]
     },
     "metadata": {
      "needs_background": "light"
     },
     "output_type": "display_data"
    }
   ],
   "source": [
    "prediction.plot()\n",
    "nyts['2017-05-01':].value.plot();"
   ]
  },
  {
   "cell_type": "code",
   "execution_count": null,
   "metadata": {},
   "outputs": [],
   "source": []
  }
 ],
 "metadata": {
  "kernelspec": {
   "display_name": "Python (learn-env)",
   "language": "python",
   "name": "learn-env"
  },
  "language_info": {
   "codemirror_mode": {
    "name": "ipython",
    "version": 3
   },
   "file_extension": ".py",
   "mimetype": "text/x-python",
   "name": "python",
   "nbconvert_exporter": "python",
   "pygments_lexer": "ipython3",
   "version": "3.8.5"
  },
  "toc": {
   "base_numbering": 1,
   "nav_menu": {},
   "number_sections": true,
   "sideBar": true,
   "skip_h1_title": false,
   "title_cell": "Table of Contents",
   "title_sidebar": "Contents",
   "toc_cell": false,
   "toc_position": {},
   "toc_section_display": true,
   "toc_window_display": false
  },
  "varInspector": {
   "cols": {
    "lenName": 16,
    "lenType": 16,
    "lenVar": 40
   },
   "kernels_config": {
    "python": {
     "delete_cmd_postfix": "",
     "delete_cmd_prefix": "del ",
     "library": "var_list.py",
     "varRefreshCmd": "print(var_dic_list())"
    },
    "r": {
     "delete_cmd_postfix": ") ",
     "delete_cmd_prefix": "rm(",
     "library": "var_list.r",
     "varRefreshCmd": "cat(var_dic_list()) "
    }
   },
   "position": {
    "height": "362.85px",
    "left": "925px",
    "right": "20px",
    "top": "-2px",
    "width": "350px"
   },
   "types_to_exclude": [
    "module",
    "function",
    "builtin_function_or_method",
    "instance",
    "_Feature"
   ],
   "window_display": false
  }
 },
 "nbformat": 4,
 "nbformat_minor": 4
}
